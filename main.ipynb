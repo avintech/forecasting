{
 "cells": [
  {
   "cell_type": "markdown",
   "metadata": {},
   "source": [
    "#### Step 1: Split Index Code into different columns\n",
    "\n",
    "index_overall,index_main_type,index_service_type,index_region\n",
    "\n",
    "#### Step 2: Remove Index Code from Item Code\n",
    "\n",
    "eg. 0101010101001 to 001\n",
    "\n",
    "#### Step 3: Transform structure of df from cols \n",
    "[index_overall,index_main_type,index_service_type,index_region,item_code,[months]] \n",
    "to \n",
    "[index_overall,index_main_type,index_service_type,index_region,item_code,month,price]"
   ]
  },
  {
   "cell_type": "code",
   "execution_count": 2,
   "metadata": {},
   "outputs": [],
   "source": [
    "import pandas as pd"
   ]
  },
  {
   "cell_type": "code",
   "execution_count": 13,
   "metadata": {},
   "outputs": [],
   "source": [
    "file_path = \"data2.csv\"\n",
    "# df = pd.DataFrame({'Index Code': ['0101010101', '0101010102', '0101010203', '0101010204', '0102010203'],\n",
    "#                    'Item Code': ['0101010101001', '0101010102002', '0101010203003', '0101010204004', '0102010203005'],\n",
    "#                    'Jun 2022': [1, 2, 3, 4, 5],\n",
    "#                    'Jul 2022': [2, 3, 4, 5, 6],\n",
    "#                    'Aug 2022': [3, 4, 5, 6, 7],\n",
    "#                    'Sep 2022': [4, 5, 6, 7, 8],\n",
    "#                    'Oct 2022': [5, 6, 7, 8, 9],\n",
    "#                    'Nov 2022': [6, 7, 8, 9, 10],\n",
    "#                    'Dec 2022': [7, 8, 9, 10, 11],\n",
    "#                    'Jan 2023': [8, 9, 10, 11, 12],\n",
    "#                    })\n",
    "\n",
    "# df.to_csv(file_path, index=False)\n",
    "\n",
    "#read csv, and keep Index Code and Item Code as string\n",
    "df = pd.read_csv(file_path, dtype={'Index Code': str, 'Item Code': str})\n",
    "\n",
    "#Make months into rows\n",
    "df = df.melt(id_vars=[\"Index Code\", \"Item Code\"], \n",
    "                        var_name=\"month\", \n",
    "                        value_name=\"price\")\n",
    "\n",
    "for index,row in df.iterrows():\n",
    "    ## Step 1: Split Index Code into different columns\n",
    "    #index_overall,index_main_type,index_freight_type,index_service_type,index_region\n",
    "    df.loc[index,'index_overall'] = row['Index Code'][:2]\n",
    "    df.loc[index,'index_main_type'] = row['Index Code'][2:4]\n",
    "    df.loc[index,'index_freight_type'] = row['Index Code'][4:6]\n",
    "    df.loc[index,'index_service_type'] = row['Index Code'][6:8]\n",
    "    df.loc[index,'index_region'] = row['Index Code'][8:10]\n",
    "\n",
    "    ## Step 2: Check if Index Code is in Item Code\n",
    "    if row['Index Code'] in row['Item Code']:\n",
    "        #remove Index Code from Item Code\n",
    "        df.loc[index,'item_code'] = row['Item Code'].replace(row['Index Code'],'')\n",
    "\n",
    "    # convert month to date, 1st day of the month\n",
    "    df.loc[index,'month'] = pd.to_datetime(row['month'], format='%b %Y').strftime('%Y-%m-%d')\n",
    "\n",
    "df.drop(columns=['Index Code','Item Code'], inplace=True)\n",
    "#re-order columns\n",
    "df = df[['index_overall', 'index_main_type', 'index_freight_type', 'index_service_type', 'index_region', 'item_code', 'month', 'price']]\n",
    "df.to_csv('output.csv', index=False)"
   ]
  }
 ],
 "metadata": {
  "kernelspec": {
   "display_name": "base",
   "language": "python",
   "name": "python3"
  },
  "language_info": {
   "codemirror_mode": {
    "name": "ipython",
    "version": 3
   },
   "file_extension": ".py",
   "mimetype": "text/x-python",
   "name": "python",
   "nbconvert_exporter": "python",
   "pygments_lexer": "ipython3",
   "version": "3.11.7"
  }
 },
 "nbformat": 4,
 "nbformat_minor": 2
}
